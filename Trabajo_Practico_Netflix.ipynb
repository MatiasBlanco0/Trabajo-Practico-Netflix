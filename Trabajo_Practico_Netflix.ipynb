{
  "cells": [
    {
      "cell_type": "markdown",
      "metadata": {
        "id": "view-in-github",
        "colab_type": "text"
      },
      "source": [
        "<a href=\"https://colab.research.google.com/github/MatiasBlanco0/Trabajo-Practico-Netflix/blob/main/Trabajo_Practico_Netflix.ipynb\" target=\"_parent\"><img src=\"https://colab.research.google.com/assets/colab-badge.svg\" alt=\"Open In Colab\"/></a>"
      ]
    },
    {
      "cell_type": "markdown",
      "metadata": {
        "id": "i59C4qiPHVym"
      },
      "source": [
        "# Importante"
      ]
    },
    {
      "cell_type": "markdown",
      "metadata": {
        "id": "ulMvUl84jMKQ"
      },
      "source": [
        "## Librerias"
      ]
    },
    {
      "cell_type": "code",
      "execution_count": null,
      "metadata": {
        "id": "2gXwEepH_22r"
      },
      "outputs": [],
      "source": [
        "from google.colab import files\n",
        "import pandas as pd\n",
        "import matplotlib.pyplot as plt"
      ]
    },
    {
      "cell_type": "markdown",
      "metadata": {
        "id": "NKuD2TybBdPg"
      },
      "source": [
        "Importamos `files` de `google.colab` para poder subir el archivo csv.\n",
        "\n",
        "Importamos `pandas` para poder leer y modificar el archivo csv.\n",
        "\n",
        "Importamos `matplotlib.pyplot` para poder hacer graficos"
      ]
    },
    {
      "cell_type": "markdown",
      "metadata": {
        "id": "deekMVA0jOD_"
      },
      "source": [
        "## Subir Archivo CSV"
      ]
    },
    {
      "cell_type": "code",
      "execution_count": null,
      "metadata": {
        "colab": {
          "base_uri": "https://localhost:8080/",
          "height": 73,
          "resources": {
            "http://localhost:8080/nbextensions/google.colab/files.js": {
              "data": "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",
              "headers": [
                [
                  "content-type",
                  "application/javascript"
                ]
              ],
              "ok": true,
              "status": 200,
              "status_text": "OK"
            }
          }
        },
        "id": "iIBz0-kuAhAz",
        "outputId": "9388ef2c-d302-42bf-df02-4b02b6b8b295"
      },
      "outputs": [
        {
          "data": {
            "text/html": [
              "\n",
              "     <input type=\"file\" id=\"files-9e220705-ec46-440c-a4b8-bbaa8deeb617\" name=\"files[]\" multiple disabled\n",
              "        style=\"border:none\" />\n",
              "     <output id=\"result-9e220705-ec46-440c-a4b8-bbaa8deeb617\">\n",
              "      Upload widget is only available when the cell has been executed in the\n",
              "      current browser session. Please rerun this cell to enable.\n",
              "      </output>\n",
              "      <script src=\"/nbextensions/google.colab/files.js\"></script> "
            ],
            "text/plain": [
              "<IPython.core.display.HTML object>"
            ]
          },
          "metadata": {},
          "output_type": "display_data"
        },
        {
          "name": "stdout",
          "output_type": "stream",
          "text": [
            "Saving NetflixHistory.csv to NetflixHistory.csv\n"
          ]
        }
      ],
      "source": [
        "uploaded = files.upload()"
      ]
    },
    {
      "cell_type": "markdown",
      "metadata": {
        "id": "u6n0EXPQjQcv"
      },
      "source": [
        "## Leer y preparar el archivo CSV\n",
        "Correr una vez por sesion"
      ]
    },
    {
      "cell_type": "markdown",
      "metadata": {
        "id": "PhFmQZWZB_0h"
      },
      "source": [
        "Guardamos el archivo csv en una variable llamada `df`por dataframe"
      ]
    },
    {
      "cell_type": "code",
      "execution_count": null,
      "metadata": {
        "id": "0EXW7EVtBEIT"
      },
      "outputs": [],
      "source": [
        "df = pd.read_csv(\"/content/NetflixHistory.csv\")"
      ]
    },
    {
      "cell_type": "markdown",
      "metadata": {
        "id": "eAyCmqVFhWAp"
      },
      "source": [
        "Correr esto para filtrar los dispositivos indicados. `inplace=True` sirve para que la funcion sobreescriba el data frame en vez de devolver una copia"
      ]
    },
    {
      "cell_type": "code",
      "execution_count": null,
      "metadata": {
        "id": "CEWxkwCDZ_sC"
      },
      "outputs": [],
      "source": [
        "devicesToIgnore = ['Sony PS4', 'Netflix Windows App - Cadmium Windows Mobile', 'Apple iPhone 6s', 'Apple iPhone 7 Plus (CDMA)', 'Chrome PC (Cadmium)', 'Samsung 2015 NT14M DTV Smart TV', 'iPhone 5S GSM', 'Google Chromecast V3 Streaming Stick']\n",
        "for deviceToIgnore in devicesToIgnore:\n",
        "  df.drop(df[df['Device Type'] == deviceToIgnore].index, inplace=True)"
      ]
    },
    {
      "cell_type": "markdown",
      "metadata": {
        "id": "3lKhZbKVCSOH"
      },
      "source": [
        "Correr una vez, sino tira error. Porfa 🙏"
      ]
    },
    {
      "cell_type": "code",
      "execution_count": null,
      "metadata": {
        "id": "qMOVGsnd_DTB"
      },
      "outputs": [],
      "source": [
        "def convertTextToSeconds(string):\n",
        "  # El string de duration es como '01:20:14'\n",
        "  hours, minutes, seconds = string.split(\":\")\n",
        "  return int(seconds) + (int(minutes) + int(hours) * 60) * 60\n",
        "\n",
        "# Reemplazo duration con la duracion en segundos\n",
        "df['Duration'] = df['Duration'].apply(convertTextToSeconds)"
      ]
    },
    {
      "cell_type": "markdown",
      "metadata": {
        "id": "PxruFfrLIISd"
      },
      "source": [
        "Separar peliculas y series en distintos data frames"
      ]
    },
    {
      "cell_type": "code",
      "execution_count": null,
      "metadata": {
        "id": "ubXVtK6bKUKe"
      },
      "outputs": [],
      "source": [
        "# Filtrado los trailers, hooks, recaps y los teaser_trailers\n",
        "peliculasYSeries = df[pd.isna(df['Supplemental Video Type'])]\n",
        "series = peliculasYSeries[peliculasYSeries['Title'].str.contains(\"Capítulo\")]\n",
        "peliculas = peliculasYSeries[~peliculasYSeries['Title'].str.contains(\"Capítulo\")]"
      ]
    },
    {
      "cell_type": "markdown",
      "metadata": {
        "id": "zLff-5H3kT6u"
      },
      "source": [
        "# Ejercicios"
      ]
    },
    {
      "cell_type": "markdown",
      "metadata": {
        "id": "BV71NNGpkVkF"
      },
      "source": [
        "## A. Contabilizar el dispositivo con el que más títulos se reprodujeron."
      ]
    },
    {
      "cell_type": "markdown",
      "metadata": {
        "id": "B7Y5uSXDk6Oe"
      },
      "source": [
        "Nosotros contamos como titulo al titulo unico, es decir, si se ve una pelicula dos veces, esto cuenta como una vez"
      ]
    },
    {
      "cell_type": "code",
      "execution_count": null,
      "metadata": {
        "colab": {
          "base_uri": "https://localhost:8080/"
        },
        "id": "ddFfrJvDk4bm",
        "outputId": "78cdaeb2-7cf8-4090-b678-eac7332869d2"
      },
      "outputs": [
        {
          "name": "stdout",
          "output_type": "stream",
          "text": [
            "Dispositivo: Apple Apple TV 4 Apple TV\n",
            "Cantidad de titulos: 1920\n"
          ]
        }
      ],
      "source": [
        "devices = {}\n",
        "# Iteramos por cada dispositivo del dataframe y si no esta lo agregamos con un valor\n",
        "for device in df['Device Type']:\n",
        "  if device not in devices:\n",
        "    # Sacamos la cuenta de valores de la serie Title donde el Device Type es igual al del device actual, lo convertimos a un diccionario y sacamos las keys,\n",
        "    # porque es lo que nos interesa (los nombres de los titulos)\n",
        "    # Al final devolvemos el largo para saber cuantos titulos se vieron en ese dispositivo\n",
        "    devices[device] = len(df[df['Device Type'] == device]['Title'].value_counts().to_list())\n",
        "\n",
        "# Utilizamos la funcion sorted para ordenar en base a los valores, accediendolos mediante devices.items() e indicando en el callback de key que los\n",
        "# ordene en base al valor. Ademas de decir que los ordene de mayor a menor. Esto devuelve una lista de tuplas\n",
        "devices = sorted(devices.items(), key=lambda item: item[1], reverse=True)\n",
        "\n",
        "# Mostrar en consola\n",
        "print(\"Dispositivo: \" + devices[0][0])\n",
        "print(\"Cantidad de titulos: \" + str(devices[0][1]))"
      ]
    },
    {
      "cell_type": "markdown",
      "metadata": {
        "id": "jYG_1rzjyS_W"
      },
      "source": [
        "El dispositivo en el que mas titulos se reprodujeron fue: Apple Apple TV 4 Apple TV, con 1920 titulos"
      ]
    },
    {
      "cell_type": "markdown",
      "metadata": {
        "id": "0GUfNu5zkYKo"
      },
      "source": [
        "## B. Encontrar la película con más ocurrencias y la película con mayor duración total.\n"
      ]
    },
    {
      "cell_type": "code",
      "execution_count": null,
      "metadata": {
        "id": "2EAshpW1t0wK"
      },
      "outputs": [],
      "source": [
        "# peliculas['Title'].value_counts().to_dict() devuelve un diccionario con el titulo como key y la cantidad de ocurrencias como el valor\n",
        "titulosPeliculas1 = peliculas['Title'].value_counts().to_dict()\n",
        "titulosPeliculas2 = peliculas['Title'].value_counts().to_dict()"
      ]
    },
    {
      "cell_type": "code",
      "execution_count": null,
      "metadata": {
        "colab": {
          "base_uri": "https://localhost:8080/"
        },
        "id": "kY-xrqvjyo64",
        "outputId": "1a277044-fb0b-41ae-f092-0ab6e0decbba"
      },
      "outputs": [
        {
          "name": "stdout",
          "output_type": "stream",
          "text": [
            "Peliculas con mas ocurrencias: \n",
            "Titulo: Star Wars: El Imperio contraataca\n",
            "Cantidad de ocurrencias: 7\n",
            "\n",
            "Titulo: El código enigma\n",
            "Cantidad de ocurrencias: 7\n",
            "\n",
            "Titulo: 007 Operación Skyfall\n",
            "Cantidad de ocurrencias: 6\n",
            "\n"
          ]
        }
      ],
      "source": [
        "# La funcion sorted es igual que en el ejercicio A. Solo que convertimos a diccionario los primeros 3 items\n",
        "print(\"Peliculas con mas ocurrencias: \")\n",
        "for item in sorted(titulosPeliculas1.items(), key=lambda item: item[1], reverse=True)[:3]:\n",
        "  print(\"Titulo: \" + item[0])\n",
        "  print(\"Cantidad de ocurrencias: \" + str(item[1]))\n",
        "  print()"
      ]
    },
    {
      "cell_type": "code",
      "execution_count": null,
      "metadata": {
        "colab": {
          "base_uri": "https://localhost:8080/"
        },
        "id": "s8V-1uBlt8yE",
        "outputId": "bf005072-f9cd-49a2-951e-df1626f21e25"
      },
      "outputs": [
        {
          "name": "stdout",
          "output_type": "stream",
          "text": [
            "Peliculas con mayor duracion total (en segundos): \n",
            "Titulo: Star Wars: El Imperio contraataca\n",
            "Segundos: 29433\n",
            "\n",
            "Titulo: Iron Man: El Hombre de Hierro\n",
            "Segundos: 21718\n",
            "\n",
            "Titulo: Star Wars: Una nueva esperanza\n",
            "Segundos: 20394\n",
            "\n"
          ]
        }
      ],
      "source": [
        "# Por cada titulo unico sumamos la duracion de todas las ocurrencias\n",
        "for titulo in titulosPeliculas2.keys():\n",
        "  titulosPeliculas2[titulo] = sum(peliculas[peliculas['Title'] == titulo]['Duration'])\n",
        "\n",
        "# La funcion sorted es igual que la anterior\n",
        "print(\"Peliculas con mayor duracion total (en segundos): \")\n",
        "for item in sorted(titulosPeliculas2.items(), key=lambda item: item[1], reverse=True)[:3]:\n",
        "  print(\"Titulo: \" + item[0])\n",
        "  print(\"Segundos: \" + str(item[1]))\n",
        "  print()"
      ]
    },
    {
      "cell_type": "markdown",
      "metadata": {
        "id": "DubTY3FXpUh0"
      },
      "source": [
        "Las peliculas con mas ocurrencias son Star Wars: El Imperio contraataca y El codigo enigma con 7 reproducciones.\n",
        "\n",
        "La pelicula con mayor duracion total es Star Wars: El Imperio contraataca con 29433 segundos, es decir, 08:10:33"
      ]
    },
    {
      "cell_type": "markdown",
      "metadata": {
        "id": "t9gYS-RBkZLe"
      },
      "source": [
        "## C. Generar un TOP “N” de series vistas y graficar.\n",
        "## 1.   Por tiempo visto\n",
        "## 2.   Por ocurrencias"
      ]
    },
    {
      "cell_type": "code",
      "execution_count": null,
      "metadata": {
        "id": "WFRxnFRrsUZZ"
      },
      "outputs": [],
      "source": [
        "# series['Title'].value_counts().to_dict() devuelve un diccionario con el titulo como key y la cantidad de ocurrencias como el valor\n",
        "titulosSeries1 = series['Title'].value_counts().to_dict()\n",
        "titulosSeries2 = series['Title'].value_counts().to_dict()"
      ]
    },
    {
      "cell_type": "markdown",
      "metadata": {
        "id": "LCDUroIHvET0"
      },
      "source": [
        "Cuando cambies el numero de top correr el bloque que esta abajo"
      ]
    },
    {
      "cell_type": "code",
      "execution_count": null,
      "metadata": {
        "id": "t2JiIOkrsBJ5"
      },
      "outputs": [],
      "source": [
        "# Poner numero de top\n",
        "top = 5"
      ]
    },
    {
      "cell_type": "markdown",
      "metadata": {
        "id": "ExxLAncvqiFM"
      },
      "source": [
        "### Por tiempo visto"
      ]
    },
    {
      "cell_type": "code",
      "execution_count": null,
      "metadata": {
        "id": "sm00kZ8CpE6L"
      },
      "outputs": [],
      "source": [
        "# Por cada titulo unico sumamos la duracion de todas las ocurrencias\n",
        "for titulo in titulosSeries2.keys():\n",
        "  titulosSeries2[titulo] = sum(series[series['Title'] == titulo]['Duration'])\n",
        "\n",
        "# La funcion sorted es igual que en el ejercicio A. Solo que convertimos a diccionario los primeros items en base al numero de top\n",
        "datos1 = dict(sorted(titulosSeries2.items(), key=lambda item: item[1], reverse=True)[:top])"
      ]
    },
    {
      "cell_type": "markdown",
      "metadata": {
        "id": "RL_23w9mvMy4"
      },
      "source": [
        "Correr el bloque anterior una vez antes que este"
      ]
    },
    {
      "cell_type": "code",
      "execution_count": null,
      "metadata": {
        "colab": {
          "base_uri": "https://localhost:8080/",
          "height": 620
        },
        "id": "eM5PIDrzugto",
        "outputId": "b99ea55f-90b6-4bd3-ec1d-20ee130680ab"
      },
      "outputs": [
        {
          "data": {
            "image/png": "[encoded data removed]",
            "text/plain": [
              "<Figure size 3240x1080 with 1 Axes>"
            ]
          },
          "metadata": {},
          "output_type": "display_data"
        }
      ],
      "source": [
        "plt.figure(figsize=(9 * top, 3 * top))\n",
        "plt.bar(datos1.keys(), datos1.values(), width=0.5)\n",
        "plt.xlabel(\"Titulos\", fontsize=15)\n",
        "plt.ylabel(\"Segundos\", fontsize=15)\n",
        "plt.show()"
      ]
    },
    {
      "cell_type": "markdown",
      "metadata": {
        "id": "tfBdsQuQqpKy"
      },
      "source": [
        "### Por ocurrencias"
      ]
    },
    {
      "cell_type": "code",
      "execution_count": null,
      "metadata": {
        "id": "g6QBQeWPr_KR"
      },
      "outputs": [],
      "source": [
        "# La funcion sorted es igual que la anterior\n",
        "datos2 = dict(sorted(titulosSeries1.items(), key=lambda item: item[1], reverse=True)[:top])"
      ]
    },
    {
      "cell_type": "markdown",
      "metadata": {
        "id": "VoDZw8zHvRrn"
      },
      "source": [
        "Correr el bloque anterior una vez antes que este"
      ]
    },
    {
      "cell_type": "code",
      "execution_count": null,
      "metadata": {
        "colab": {
          "base_uri": "https://localhost:8080/",
          "height": 624
        },
        "id": "fvPRmr79xiX-",
        "outputId": "6d4de58c-6475-4a57-ad79-2a2823983468"
      },
      "outputs": [
        {
          "data": {
            "image/png": "[encoded data removed]",
            "text/plain": [
              "<Figure size 3240x1080 with 1 Axes>"
            ]
          },
          "metadata": {},
          "output_type": "display_data"
        }
      ],
      "source": [
        "plt.figure(figsize=(9 * top, 3 * top))\n",
        "plt.bar(datos2.keys(), datos2.values(), width=0.5)\n",
        "plt.xlabel(\"Titulos\", fontsize=15)\n",
        "plt.ylabel(\"Segundos\", fontsize=15)\n",
        "plt.show()"
      ]
    },
    {
      "cell_type": "markdown",
      "metadata": {
        "id": "T8RrNbs3kZ7-"
      },
      "source": [
        "## D. Visualizar una semana de reproducciones genérica, en función a las reproducciones por día y por horario de todos los años.\n"
      ]
    },
    {
      "cell_type": "markdown",
      "metadata": {
        "id": "VVr06Sdgkaf-"
      },
      "source": [
        "## E. Contabilizar la cantidad de títulos vistos por año, graficar su variación a través de los años.\n"
      ]
    },
    {
      "cell_type": "code",
      "source": [
        "# peliculasYSeries['Title'].value_counts().to_dict() devuelve un diccionario con las keys como el titulo y la cantidad de ocurrencias como el valor\n",
        "todosTitlos = peliculasYSeries['Title'].value_counts().to_dict()\n",
        "\n",
        "# De todos los tiempos de inicio hacemos un slice de los resultados hasta el index 4 incluyendolo, para conseguir el año,\n",
        "# ya que el formato del tiempo es aaaa-mm-dd hh:mm:ss\n",
        "# Hacemos un value_counts (devuelve una serie con un valor y su cantidad de ocurrencias) y lo convertimos a un diccionario\n",
        "años = dict(peliculasYSeries['Start Time'].str.slice(stop=4).value_counts())\n",
        "\n",
        "# Ordenamos los items del diccionario años en base a la key, es decir el año, y despues los convertimos a un diccionario\n",
        "años = dict(sorted(años.items()))"
      ],
      "metadata": {
        "id": "V5O2U1SnxWxm"
      },
      "execution_count": 32,
      "outputs": []
    },
    {
      "cell_type": "code",
      "source": [
        "plt.bar(años.keys(), años.values(), width=0.5)\n",
        "plt.xlabel(\"Años\", fontsize=15)\n",
        "plt.ylabel(\"Cantidad de titulos vistos\", fontsize=15)\n",
        "plt.show()"
      ],
      "metadata": {
        "colab": {
          "base_uri": "https://localhost:8080/",
          "height": 284
        },
        "id": "L85jj_7W0lN0",
        "outputId": "06cb03e3-8767-41b7-eeea-467ce5ac9660"
      },
      "execution_count": 33,
      "outputs": [
        {
          "output_type": "display_data",
          "data": {
            "text/plain": [
              "<Figure size 432x288 with 1 Axes>"
            ],
            "image/png": "[encoded data removed]"
          },
          "metadata": {
            "needs_background": "light"
          }
        }
      ]
    },
    {
      "cell_type": "markdown",
      "metadata": {
        "id": "iqaNoEd4kdBG"
      },
      "source": [
        "## F. Total de días de todos los títulos reproducidos.\n"
      ]
    },
    {
      "cell_type": "code",
      "execution_count": null,
      "metadata": {
        "id": "4eMJNSgjyCDl"
      },
      "outputs": [],
      "source": [
        "# peliculasYSeries['Title'].value_counts().to_dict() devuelve un diccionario con las keys como el titulo y la cantidad de ocurrencias como el valor\n",
        "titulosGenerales = peliculasYSeries['Title'].value_counts().to_dict()\n",
        "\n",
        "segundosTotales = 0\n",
        "\n",
        "# Por cada titulo unico sumamos la duracion de todas las ocurrencias a segundosTotales\n",
        "for titulo in titulosGenerales.keys():\n",
        "  segundosTotales += sum(peliculasYSeries[peliculasYSeries['Title'] == titulo]['Duration'])\n",
        "\n",
        "# convertimos los segundos totales a dias, horas, minutos y segundos\n",
        "# 86400 = 3600 * 24\n",
        "dias = segundosTotales/86400\n",
        "horas = (dias - int(dias)) * 24\n",
        "minutos = (horas - int(horas)) * 60\n",
        "segundos = (minutos - int(minutos)) * 60"
      ]
    },
    {
      "cell_type": "markdown",
      "metadata": {
        "id": "zkB-0kG2vnvL"
      },
      "source": [
        "Correr el bloque anterior una vez antes que este"
      ]
    },
    {
      "cell_type": "code",
      "execution_count": null,
      "metadata": {
        "colab": {
          "background_save": true,
          "base_uri": "https://localhost:8080/"
        },
        "id": "LkySRHCO1fT8",
        "outputId": "adda44a8-d2e3-4d48-f3ea-df6929a46659"
      },
      "outputs": [
        {
          "name": "stdout",
          "output_type": "stream",
          "text": [
            "Tiempo total (en dd:hh:mm:ss): 99:18:11:41\n"
          ]
        }
      ],
      "source": [
        "# Mostramos el tiempo total en el formato dd:hh:mm:ss\n",
        "print(\"Tiempo total (en dd:hh:mm:ss): \" + str(int(dias)) + \":\" + str(int(horas)) + \":\" + str(int(minutos)) + \":\" + str(int(segundos)))"
      ]
    }
  ],
  "metadata": {
    "colab": {
      "collapsed_sections": [
        "ulMvUl84jMKQ",
        "deekMVA0jOD_",
        "u6n0EXPQjQcv",
        "BV71NNGpkVkF",
        "0GUfNu5zkYKo",
        "t9gYS-RBkZLe",
        "ExxLAncvqiFM",
        "tfBdsQuQqpKy",
        "VVr06Sdgkaf-",
        "iqaNoEd4kdBG"
      ],
      "provenance": [],
      "include_colab_link": true
    },
    "kernelspec": {
      "display_name": "Python 3",
      "name": "python3"
    },
    "language_info": {
      "name": "python"
    }
  },
  "nbformat": 4,
  "nbformat_minor": 0
}