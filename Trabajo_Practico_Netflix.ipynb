{
  "nbformat": 4,
  "nbformat_minor": 0,
  "metadata": {
    "colab": {
      "provenance": [],
      "collapsed_sections": [
        "ulMvUl84jMKQ",
        "deekMVA0jOD_",
        "u6n0EXPQjQcv",
        "BV71NNGpkVkF",
        "0GUfNu5zkYKo",
        "ExxLAncvqiFM",
        "tfBdsQuQqpKy",
        "iqaNoEd4kdBG"
      ],
      "include_colab_link": true
    },
    "kernelspec": {
      "name": "python3",
      "display_name": "Python 3"
    },
    "language_info": {
      "name": "python"
    }
  },
  "cells": [
    {
      "cell_type": "markdown",
      "metadata": {
        "id": "view-in-github",
        "colab_type": "text"
      },
      "source": [
        "<a href=\"https://colab.research.google.com/github/MatiasBlanco0/Trabajo-Practico-Netflix/blob/main/Trabajo_Practico_Netflix.ipynb\" target=\"_parent\"><img src=\"https://colab.research.google.com/assets/colab-badge.svg\" alt=\"Open In Colab\"/></a>"
      ]
    },
    {
      "cell_type": "markdown",
      "source": [
        "# Importante"
      ],
      "metadata": {
        "id": "i59C4qiPHVym"
      }
    },
    {
      "cell_type": "markdown",
      "source": [
        "## Librerias"
      ],
      "metadata": {
        "id": "ulMvUl84jMKQ"
      }
    },
    {
      "cell_type": "code",
      "execution_count": 2,
      "metadata": {
        "id": "2gXwEepH_22r"
      },
      "outputs": [],
      "source": [
        "from google.colab import files\n",
        "import pandas as pd\n",
        "import matplotlib.pyplot as plt"
      ]
    },
    {
      "cell_type": "markdown",
      "source": [
        "Importamos `files` de `google.colab` para poder subir el archivo csv.\n",
        "\n",
        "Importamos `pandas` para poder leer y modificar el archivo csv.\n",
        "\n",
        "Importamos `matplotlib.pyplot` para poder hacer graficos"
      ],
      "metadata": {
        "id": "NKuD2TybBdPg"
      }
    },
    {
      "cell_type": "markdown",
      "source": [
        "## Subir Archivo CSV"
      ],
      "metadata": {
        "id": "deekMVA0jOD_"
      }
    },
    {
      "cell_type": "code",
      "source": [
        "uploaded = files.upload()"
      ],
      "metadata": {
        "colab": {
          "resources": {
            "http://localhost:8080/nbextensions/google.colab/files.js": {
              "data": "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",
              "ok": true,
              "headers": [
                [
                  "content-type",
                  "application/javascript"
                ]
              ],
              "status": 200,
              "status_text": ""
            }
          },
          "base_uri": "https://localhost:8080/",
          "height": 0
        },
        "id": "iIBz0-kuAhAz",
        "outputId": "26c292b9-60bb-4596-c561-06ab000b48a5"
      },
      "execution_count": 3,
      "outputs": [
        {
          "output_type": "display_data",
          "data": {
            "text/plain": [
              "<IPython.core.display.HTML object>"
            ],
            "text/html": [
              "\n",
              "     <input type=\"file\" id=\"files-16ded855-783e-4a0c-9a9e-4ecd8094aa59\" name=\"files[]\" multiple disabled\n",
              "        style=\"border:none\" />\n",
              "     <output id=\"result-16ded855-783e-4a0c-9a9e-4ecd8094aa59\">\n",
              "      Upload widget is only available when the cell has been executed in the\n",
              "      current browser session. Please rerun this cell to enable.\n",
              "      </output>\n",
              "      <script src=\"/nbextensions/google.colab/files.js\"></script> "
            ]
          },
          "metadata": {}
        },
        {
          "output_type": "stream",
          "name": "stdout",
          "text": [
            "Saving NetflixHistory.csv to NetflixHistory.csv\n"
          ]
        }
      ]
    },
    {
      "cell_type": "markdown",
      "source": [
        "## Leer y preparar el archivo CSV\n",
        "Correr una vez por sesion"
      ],
      "metadata": {
        "id": "u6n0EXPQjQcv"
      }
    },
    {
      "cell_type": "markdown",
      "source": [
        "Guardamos el archivo csv en una variable llamada `df`por dataframe"
      ],
      "metadata": {
        "id": "PhFmQZWZB_0h"
      }
    },
    {
      "cell_type": "code",
      "source": [
        "df = pd.read_csv(\"/content/NetflixHistory.csv\")"
      ],
      "metadata": {
        "id": "0EXW7EVtBEIT"
      },
      "execution_count": 8,
      "outputs": []
    },
    {
      "cell_type": "markdown",
      "source": [
        "Correr esto para filtrar los dispositivos indicados. `inplace=True` sirve para que la funcion sobreescriba el data frame en vez de devolver una copia"
      ],
      "metadata": {
        "id": "eAyCmqVFhWAp"
      }
    },
    {
      "cell_type": "code",
      "source": [
        "devicesToIgnore = ['Sony PS4', 'Netflix Windows App - Cadmium Windows Mobile', 'Apple iPhone 6s', 'Apple iPhone 7 Plus (CDMA)', 'Chrome PC (Cadmium)', 'Samsung 2015 NT14M DTV Smart TV', 'iPhone 5S GSM', 'Google Chromecast V3 Streaming Stick']\n",
        "for deviceToIgnore in devicesToIgnore:\n",
        "  df.drop(df[df['Device Type'] == deviceToIgnore].index, inplace=True)"
      ],
      "metadata": {
        "id": "CEWxkwCDZ_sC"
      },
      "execution_count": 9,
      "outputs": []
    },
    {
      "cell_type": "markdown",
      "source": [
        "Correr una vez, sino tira error. Porfa 🙏"
      ],
      "metadata": {
        "id": "3lKhZbKVCSOH"
      }
    },
    {
      "cell_type": "code",
      "source": [
        "def convertTextToSeconds(string):\n",
        "  # El string de duration es como '01:20:14'\n",
        "  hours, minutes, seconds = string.split(\":\")\n",
        "  return int(seconds) + (int(minutes) + int(hours) * 60) * 60\n",
        "\n",
        "# Reemplazo duration con la duracion en segundos\n",
        "df['Duration'] = df['Duration'].apply(convertTextToSeconds)"
      ],
      "metadata": {
        "id": "qMOVGsnd_DTB"
      },
      "execution_count": 10,
      "outputs": []
    },
    {
      "cell_type": "markdown",
      "source": [
        "Separar peliculas y series en distintos data frames"
      ],
      "metadata": {
        "id": "PxruFfrLIISd"
      }
    },
    {
      "cell_type": "code",
      "source": [
        "# Filtrado los trailers, hooks, recaps y los teaser_trailers\n",
        "peliculasYSeries = df[pd.isna(df['Supplemental Video Type'])]\n",
        "series = peliculasYSeries[peliculasYSeries['Title'].str.contains(\"Capítulo\")]\n",
        "peliculas = peliculasYSeries[~peliculasYSeries['Title'].str.contains(\"Capítulo\")]"
      ],
      "metadata": {
        "id": "ubXVtK6bKUKe"
      },
      "execution_count": 23,
      "outputs": []
    },
    {
      "cell_type": "markdown",
      "source": [
        "# Ejercicios"
      ],
      "metadata": {
        "id": "zLff-5H3kT6u"
      }
    },
    {
      "cell_type": "markdown",
      "source": [
        "## A. Contabilizar el dispositivo con el que más títulos se reprodujeron."
      ],
      "metadata": {
        "id": "BV71NNGpkVkF"
      }
    },
    {
      "cell_type": "markdown",
      "source": [
        "Nosotros contamos como titulo al titulo unico, es decir, si se ve una pelicula dos veces, esto cuenta como una vez"
      ],
      "metadata": {
        "id": "B7Y5uSXDk6Oe"
      }
    },
    {
      "cell_type": "code",
      "source": [
        "devices = {}\n",
        "# Iteramos por cada dispositivo del dataframe y si no esta lo agregamos con un valor\n",
        "for device in df['Device Type']:\n",
        "  if device not in devices:\n",
        "    # Sacamos la cuenta de valores de la serie Title donde el Device Type es igual al del device actual, lo convertimos a un diccionario y sacamos las keys,\n",
        "    # porque es lo que nos interesa (los nombres de los titulos)\n",
        "    # Al final devolvemos el largo para saber cuantos titulos se vieron en ese dispositivo\n",
        "    devices[device] = len(df[df['Device Type'] == device]['Title'].value_counts().to_dict().keys())\n",
        "\n",
        "# Utilizamos la funcion sorted para ordenar en base a los valores, accediendolos mediante devices.items() y en el callback de key devolviendo el valor.\n",
        "# Ademas de decir que los ordene de mayor a menor\n",
        "# Esto devuelve una lista de tuplas, por eso despues los convertimos a un diccionario\n",
        "devices = sorted(devices.items(), key=lambda item: item[1], reverse=True)\n",
        "# Convertir a diccionario el primer item\n",
        "dict(devices[:1])"
      ],
      "metadata": {
        "colab": {
          "base_uri": "https://localhost:8080/"
        },
        "id": "ddFfrJvDk4bm",
        "outputId": "d36ea899-a796-489b-ae54-d08d28357180"
      },
      "execution_count": 17,
      "outputs": [
        {
          "output_type": "execute_result",
          "data": {
            "text/plain": [
              "{'Apple Apple TV 4 Apple TV': 1920}"
            ]
          },
          "metadata": {},
          "execution_count": 17
        }
      ]
    },
    {
      "cell_type": "markdown",
      "source": [
        "El dispositivo en el que mas titulos se reprodujeron fue: Apple Apple TV 4 Apple TV, con 1920 titulos"
      ],
      "metadata": {
        "id": "jYG_1rzjyS_W"
      }
    },
    {
      "cell_type": "markdown",
      "source": [
        "## B. Encontrar la película con más ocurrencias y la película con mayor duración total.\n"
      ],
      "metadata": {
        "id": "0GUfNu5zkYKo"
      }
    },
    {
      "cell_type": "code",
      "source": [
        "# peliculas['Title'].value_counts().to_dict() devuelve un diccionario con el titulo como key y la cantidad de ocurrencias como el valor\n",
        "titulosPeliculas = peliculas['Title'].value_counts().to_dict()\n",
        "# La funcion sorted es igual que en el ejercicio A. Solo que convertimos a diccionario los primeros 3 items\n",
        "print(\"Pelicula con mas ocurrencias: \")\n",
        "print(dict(sorted(titulosPeliculas.items(), key=lambda item: item[1], reverse=True)[:3]))\n",
        "print()\n",
        "\n",
        "# Por cada titulo unico sumamos la duracion de todas las ocurrencias\n",
        "for titulo in titulosPeliculas.keys():\n",
        "  titulosPeliculas[titulo] = sum(peliculas[peliculas['Title'] == titulo]['Duration'])\n",
        "\n",
        "# La funcion sorted es igual que la anterior\n",
        "print(\"Pelicula con mayor duracion total (en segundos): \")\n",
        "print(dict(sorted(titulosPeliculas.items(), key=lambda item: item[1], reverse=True)[:3]))"
      ],
      "metadata": {
        "id": "kY-xrqvjyo64",
        "colab": {
          "base_uri": "https://localhost:8080/"
        },
        "outputId": "badd9d0b-0e16-40d0-ce7c-f572d1a7874b"
      },
      "execution_count": 25,
      "outputs": [
        {
          "output_type": "stream",
          "name": "stdout",
          "text": [
            "Pelicula con mas ocurrencias: \n",
            "{'Star Wars: El Imperio contraataca': 7, 'El código enigma': 7, '007 Operación Skyfall': 6}\n",
            "\n",
            "Pelicula con mayor duracion total (en segundos): \n",
            "{'Star Wars: El Imperio contraataca': 29433, 'Iron Man: El Hombre de Hierro': 21718, 'Star Wars: Una nueva esperanza': 20394}\n"
          ]
        }
      ]
    },
    {
      "cell_type": "markdown",
      "source": [
        "Las peliculas con mas ocurrencias son Star Wars: El Imperio contraataca y El codigo enigma con 7 reproducciones.\n",
        "\n",
        "La pelicula con mayor duracion total es Star Wars: El Imperio contraataca con 29433 segundos, es decir, 08:10:33"
      ],
      "metadata": {
        "id": "DubTY3FXpUh0"
      }
    },
    {
      "cell_type": "markdown",
      "source": [
        "## C. Generar un TOP “N” de series vistas y graficar.\n",
        "## 1.   Por tiempo visto\n",
        "## 2.   Por ocurrencias"
      ],
      "metadata": {
        "id": "t9gYS-RBkZLe"
      }
    },
    {
      "cell_type": "code",
      "source": [
        "# series['Title'].value_counts().to_dict() devuelve un diccionario con el titulo como key y la cantidad de ocurrencias como el valor\n",
        "titulosSeries1 = series['Title'].value_counts().to_dict()\n",
        "titulosSeries2 = series['Title'].value_counts().to_dict()"
      ],
      "metadata": {
        "id": "WFRxnFRrsUZZ"
      },
      "execution_count": 36,
      "outputs": []
    },
    {
      "cell_type": "code",
      "source": [
        "# Poner numero de top\n",
        "top = 5"
      ],
      "metadata": {
        "id": "t2JiIOkrsBJ5"
      },
      "execution_count": 74,
      "outputs": []
    },
    {
      "cell_type": "markdown",
      "source": [
        "### Por tiempo visto"
      ],
      "metadata": {
        "id": "ExxLAncvqiFM"
      }
    },
    {
      "cell_type": "code",
      "source": [
        "# Por cada titulo unico sumamos la duracion de todas las ocurrencias\n",
        "for titulo in titulosSeries2.keys():\n",
        "  titulosSeries2[titulo] = sum(series[series['Title'] == titulo]['Duration'])\n",
        "\n",
        "# La funcion sorted es igual que en el ejercicio A. Solo que convertimos a diccionario los primeros items en base al numero de top\n",
        "datos1 = dict(sorted(titulosSeries2.items(), key=lambda item: item[1], reverse=True)[:top])"
      ],
      "metadata": {
        "id": "sm00kZ8CpE6L"
      },
      "execution_count": 79,
      "outputs": []
    },
    {
      "cell_type": "code",
      "source": [
        "plt.figure(figsize=(9 * top, 3 * top))\n",
        "plt.bar(datos1.keys(), datos1.values(), width=0.5)\n",
        "plt.xlabel(\"Titulos\", fontsize=15)\n",
        "plt.ylabel(\"Segundos\", fontsize=15)\n",
        "plt.show()"
      ],
      "metadata": {
        "colab": {
          "base_uri": "https://localhost:8080/",
          "height": 620
        },
        "id": "eM5PIDrzugto",
        "outputId": "b99ea55f-90b6-4bd3-ec1d-20ee130680ab"
      },
      "execution_count": 78,
      "outputs": [
        {
          "output_type": "display_data",
          "data": {
            "text/plain": [
              "<Figure size 3240x1080 with 1 Axes>"
            ],
            "image/png": "[encoded data removed]"
          },
          "metadata": {
            "needs_background": "light"
          }
        }
      ]
    },
    {
      "cell_type": "markdown",
      "source": [
        "### Por ocurrencias"
      ],
      "metadata": {
        "id": "tfBdsQuQqpKy"
      }
    },
    {
      "cell_type": "code",
      "source": [
        "# La funcion sorted es igual que la anterior\n",
        "datos2 = dict(sorted(titulosSeries1.items(), key=lambda item: item[1], reverse=True)[:top])"
      ],
      "metadata": {
        "id": "g6QBQeWPr_KR"
      },
      "execution_count": 80,
      "outputs": []
    },
    {
      "cell_type": "code",
      "source": [
        "plt.figure(figsize=(9 * top, 3 * top))\n",
        "plt.bar(datos2.keys(), datos2.values(), width=0.5)\n",
        "plt.xlabel(\"Titulos\", fontsize=15)\n",
        "plt.ylabel(\"Segundos\", fontsize=15)\n",
        "plt.show()"
      ],
      "metadata": {
        "colab": {
          "base_uri": "https://localhost:8080/",
          "height": 624
        },
        "id": "fvPRmr79xiX-",
        "outputId": "6d4de58c-6475-4a57-ad79-2a2823983468"
      },
      "execution_count": 81,
      "outputs": [
        {
          "output_type": "display_data",
          "data": {
            "text/plain": [
              "<Figure size 3240x1080 with 1 Axes>"
            ],
            "image/png": "[encoded data removed]"
          },
          "metadata": {
            "needs_background": "light"
          }
        }
      ]
    },
    {
      "cell_type": "markdown",
      "source": [
        "## D. Visualizar una semana de reproducciones genérica, en función a las reproducciones por día y por horario de todos los años.\n"
      ],
      "metadata": {
        "id": "T8RrNbs3kZ7-"
      }
    },
    {
      "cell_type": "markdown",
      "source": [
        "## E. Contabilizar la cantidad de títulos vistos por año, graficar su variación a través de los años.\n"
      ],
      "metadata": {
        "id": "VVr06Sdgkaf-"
      }
    },
    {
      "cell_type": "markdown",
      "source": [
        "## F. Total de días de todos los títulos reproducidos.\n"
      ],
      "metadata": {
        "id": "iqaNoEd4kdBG"
      }
    },
    {
      "cell_type": "code",
      "source": [
        "# peliculasYSeries['Title'].value_counts().to_dict() devuelve un diccionario con las keys como el titulo y la cantidad de ocurrencias como el valor\n",
        "titulosGenerales = peliculasYSeries['Title'].value_counts().to_dict()\n",
        "\n",
        "segundosTotales = 0\n",
        "\n",
        "# Por cada titulo unico sumamos la duracion de todas las ocurrencias a segundosTotales\n",
        "for titulo in titulosGenerales.keys():\n",
        "  segundosTotales += sum(peliculasYSeries[peliculasYSeries['Title'] == titulo]['Duration'])\n",
        "\n",
        "# convertimos los segundos totales a dias, horas, minutos y segundos\n",
        "dias = segundosTotales/86400\n",
        "horas = (dias - int(dias)) * 24\n",
        "minutos = (horas - int(horas)) * 60\n",
        "segundos = (minutos - int(minutos)) * 60"
      ],
      "metadata": {
        "id": "4eMJNSgjyCDl"
      },
      "execution_count": 98,
      "outputs": []
    },
    {
      "cell_type": "code",
      "source": [
        "# Mostramos el tiempo total en el formato dd:hh:mm:ss\n",
        "str(int(dias))+\":\"+str(int(horas))+\":\"+str(int(minutos))+\":\"+str(int(segundos))"
      ],
      "metadata": {
        "colab": {
          "base_uri": "https://localhost:8080/",
          "height": 35
        },
        "id": "LkySRHCO1fT8",
        "outputId": "5268a398-fc06-45e1-c4ee-71742aea52a5"
      },
      "execution_count": 99,
      "outputs": [
        {
          "output_type": "execute_result",
          "data": {
            "text/plain": [
              "'99:18:11:41'"
            ],
            "application/vnd.google.colaboratory.intrinsic+json": {
              "type": "string"
            }
          },
          "metadata": {},
          "execution_count": 99
        }
      ]
    }
  ]
}