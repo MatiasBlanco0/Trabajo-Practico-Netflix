{
  "cells": [
    {
      "cell_type": "markdown",
      "metadata": {
        "id": "view-in-github",
        "colab_type": "text"
      },
      "source": [
        "<a href=\"https://colab.research.google.com/github/MatiasBlanco0/Trabajo-Practico-Netflix/blob/main/Trabajo_Practico_Netflix.ipynb\" target=\"_parent\"><img src=\"https://colab.research.google.com/assets/colab-badge.svg\" alt=\"Open In Colab\"/></a>"
      ]
    },
    {
      "cell_type": "markdown",
      "metadata": {
        "id": "i59C4qiPHVym"
      },
      "source": [
        "# Importante"
      ]
    },
    {
      "cell_type": "markdown",
      "metadata": {
        "id": "ulMvUl84jMKQ"
      },
      "source": [
        "## Librerias"
      ]
    },
    {
      "cell_type": "code",
      "source": [
        "!pip install IMDbPY"
      ],
      "metadata": {
        "id": "_UJkYoF-0I7p",
        "colab": {
          "base_uri": "https://localhost:8080/"
        },
        "outputId": "629d3fc2-a1ee-4594-a1cd-dfca35e2cd8e"
      },
      "execution_count": 1,
      "outputs": [
        {
          "output_type": "stream",
          "name": "stdout",
          "text": [
            "Looking in indexes: https://pypi.org/simple, https://us-python.pkg.dev/colab-wheels/public/simple/\n",
            "Collecting IMDbPY\n",
            "  Downloading IMDbPY-2022.7.9-py3-none-any.whl (1.2 kB)\n",
            "Collecting cinemagoer\n",
            "  Downloading cinemagoer-2022.2.11-py3-none-any.whl (301 kB)\n",
            "\u001b[K     |████████████████████████████████| 301 kB 29.7 MB/s \n",
            "\u001b[?25hRequirement already satisfied: SQLAlchemy in /usr/local/lib/python3.7/dist-packages (from cinemagoer->IMDbPY) (1.4.40)\n",
            "Requirement already satisfied: lxml in /usr/local/lib/python3.7/dist-packages (from cinemagoer->IMDbPY) (4.9.1)\n",
            "Requirement already satisfied: greenlet!=0.4.17 in /usr/local/lib/python3.7/dist-packages (from SQLAlchemy->cinemagoer->IMDbPY) (1.1.3)\n",
            "Requirement already satisfied: importlib-metadata in /usr/local/lib/python3.7/dist-packages (from SQLAlchemy->cinemagoer->IMDbPY) (4.12.0)\n",
            "Requirement already satisfied: zipp>=0.5 in /usr/local/lib/python3.7/dist-packages (from importlib-metadata->SQLAlchemy->cinemagoer->IMDbPY) (3.8.1)\n",
            "Requirement already satisfied: typing-extensions>=3.6.4 in /usr/local/lib/python3.7/dist-packages (from importlib-metadata->SQLAlchemy->cinemagoer->IMDbPY) (4.1.1)\n",
            "Installing collected packages: cinemagoer, IMDbPY\n",
            "Successfully installed IMDbPY-2022.7.9 cinemagoer-2022.2.11\n"
          ]
        }
      ]
    },
    {
      "cell_type": "code",
      "execution_count": 2,
      "metadata": {
        "id": "2gXwEepH_22r"
      },
      "outputs": [],
      "source": [
        "from google.colab import files\n",
        "import pandas as pd\n",
        "import matplotlib.pyplot as plt\n",
        "import seaborn as sns\n",
        "import imdb"
      ]
    },
    {
      "cell_type": "markdown",
      "metadata": {
        "id": "NKuD2TybBdPg"
      },
      "source": [
        "Importamos `files` de `google.colab` para poder subir el archivo csv.\n",
        "\n",
        "Importamos `pandas` para poder leer y modificar el archivo csv.\n",
        "\n",
        "Importamos `matplotlib.pyplot` para poder hacer graficos.\n",
        "\n",
        "Importamos `seaborn` para poder hacer un heatmap.\n",
        "\n",
        "Importamos `imdb` para el bonus 2"
      ]
    },
    {
      "cell_type": "markdown",
      "metadata": {
        "id": "deekMVA0jOD_"
      },
      "source": [
        "## Subir Archivo CSV"
      ]
    },
    {
      "cell_type": "code",
      "execution_count": 3,
      "metadata": {
        "colab": {
          "base_uri": "https://localhost:8080/",
          "resources": {
            "http://localhost:8080/nbextensions/google.colab/files.js": {
              "data": "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",
              "headers": [
                [
                  "content-type",
                  "application/javascript"
                ]
              ],
              "ok": true,
              "status": 200,
              "status_text": ""
            }
          },
          "height": 73
        },
        "id": "iIBz0-kuAhAz",
        "outputId": "c97a1b85-7381-41fc-f29a-238e8f7183e0"
      },
      "outputs": [
        {
          "output_type": "display_data",
          "data": {
            "text/plain": [
              "<IPython.core.display.HTML object>"
            ],
            "text/html": [
              "\n",
              "     <input type=\"file\" id=\"files-1abd9582-ce71-4519-9a60-890c617223ad\" name=\"files[]\" multiple disabled\n",
              "        style=\"border:none\" />\n",
              "     <output id=\"result-1abd9582-ce71-4519-9a60-890c617223ad\">\n",
              "      Upload widget is only available when the cell has been executed in the\n",
              "      current browser session. Please rerun this cell to enable.\n",
              "      </output>\n",
              "      <script src=\"/nbextensions/google.colab/files.js\"></script> "
            ]
          },
          "metadata": {}
        },
        {
          "output_type": "stream",
          "name": "stdout",
          "text": [
            "Saving NetflixHistory.csv to NetflixHistory.csv\n"
          ]
        }
      ],
      "source": [
        "uploaded = files.upload()"
      ]
    },
    {
      "cell_type": "markdown",
      "metadata": {
        "id": "u6n0EXPQjQcv"
      },
      "source": [
        "## Leer y preparar el archivo CSV\n",
        "Correr una vez por sesion"
      ]
    },
    {
      "cell_type": "markdown",
      "metadata": {
        "id": "PhFmQZWZB_0h"
      },
      "source": [
        "Guardamos el archivo csv en una variable llamada `df`por dataframe"
      ]
    },
    {
      "cell_type": "code",
      "execution_count": 4,
      "metadata": {
        "id": "0EXW7EVtBEIT"
      },
      "outputs": [],
      "source": [
        "df = pd.read_csv(\"/content/NetflixHistory.csv\")"
      ]
    },
    {
      "cell_type": "markdown",
      "metadata": {
        "id": "eAyCmqVFhWAp"
      },
      "source": [
        "Filtrado de los dispositivos indicados."
      ]
    },
    {
      "cell_type": "code",
      "execution_count": 5,
      "metadata": {
        "id": "CEWxkwCDZ_sC"
      },
      "outputs": [],
      "source": [
        "devicesToIgnore = ['Sony PS4', 'Netflix Windows App - Cadmium Windows Mobile', 'Apple iPhone 6s', 'Apple iPhone 7 Plus (CDMA)', 'Chrome PC (Cadmium)', 'Samsung 2015 NT14M DTV Smart TV', 'iPhone 5S GSM', 'Google Chromecast V3 Streaming Stick']\n",
        "for deviceToIgnore in devicesToIgnore:\n",
        "  # inplace=True sirve para que la funcion sobreescriba el dataframe en vez de devolver una copia\n",
        "  df.drop(df[df['Device Type'] == deviceToIgnore].index, inplace=True)"
      ]
    },
    {
      "cell_type": "markdown",
      "metadata": {
        "id": "PxruFfrLIISd"
      },
      "source": [
        "Filtrado de los trailers, hooks, recaps y los teaser_trailers"
      ]
    },
    {
      "cell_type": "code",
      "execution_count": 6,
      "metadata": {
        "id": "ubXVtK6bKUKe"
      },
      "outputs": [],
      "source": [
        "peliculasYSeries = df[pd.isna(df['Supplemental Video Type'])]"
      ]
    },
    {
      "cell_type": "markdown",
      "metadata": {
        "id": "PuVShvcfFykN"
      },
      "source": [
        "Conversion de la duracion a segundos"
      ]
    },
    {
      "cell_type": "code",
      "execution_count": 7,
      "metadata": {
        "colab": {
          "base_uri": "https://localhost:8080/"
        },
        "id": "qMOVGsnd_DTB",
        "outputId": "915f750e-afba-425e-8298-d346da1d5f8c"
      },
      "outputs": [
        {
          "output_type": "stream",
          "name": "stderr",
          "text": [
            "/usr/local/lib/python3.7/dist-packages/ipykernel_launcher.py:9: SettingWithCopyWarning: \n",
            "A value is trying to be set on a copy of a slice from a DataFrame.\n",
            "Try using .loc[row_indexer,col_indexer] = value instead\n",
            "\n",
            "See the caveats in the documentation: https://pandas.pydata.org/pandas-docs/stable/user_guide/indexing.html#returning-a-view-versus-a-copy\n",
            "  if __name__ == '__main__':\n"
          ]
        }
      ],
      "source": [
        "def convertTextToSeconds(string):\n",
        "  if not isinstance(string, str):\n",
        "    return string\n",
        "  # El string de duration es del tipo 'hh:mm:ss'\n",
        "  hours, minutes, seconds = string.split(\":\")\n",
        "  return int(seconds) + (int(minutes) + int(hours) * 60) * 60\n",
        "\n",
        "# Reemplazamos duration con la duracion en segundos\n",
        "peliculasYSeries['Duration'] = peliculasYSeries['Duration'].apply(convertTextToSeconds)"
      ]
    },
    {
      "cell_type": "markdown",
      "metadata": {
        "id": "_iwocwVIGCQc"
      },
      "source": [
        "Conversion de start time a un timestamp"
      ]
    },
    {
      "cell_type": "code",
      "execution_count": 8,
      "metadata": {
        "colab": {
          "base_uri": "https://localhost:8080/"
        },
        "id": "1bemd-65EwyF",
        "outputId": "9b6bbab3-c6ad-4c9f-88b2-6eec640791a3"
      },
      "outputs": [
        {
          "output_type": "stream",
          "name": "stderr",
          "text": [
            "/usr/local/lib/python3.7/dist-packages/ipykernel_launcher.py:2: SettingWithCopyWarning: \n",
            "A value is trying to be set on a copy of a slice from a DataFrame.\n",
            "Try using .loc[row_indexer,col_indexer] = value instead\n",
            "\n",
            "See the caveats in the documentation: https://pandas.pydata.org/pandas-docs/stable/user_guide/indexing.html#returning-a-view-versus-a-copy\n",
            "  \n"
          ]
        }
      ],
      "source": [
        "# Convertimos el string de start time a un timestamp\n",
        "peliculasYSeries['Start Time'] = peliculasYSeries['Start Time'].apply(pd.Timestamp)"
      ]
    },
    {
      "cell_type": "markdown",
      "metadata": {
        "id": "V4QnKWoC406J"
      },
      "source": [
        "Separado series y peliculas en distintos dataframes"
      ]
    },
    {
      "cell_type": "code",
      "execution_count": 9,
      "metadata": {
        "id": "E3Tq2Xi346Rt"
      },
      "outputs": [],
      "source": [
        "series = peliculasYSeries[peliculasYSeries['Title'].str.split(\":\").apply(len) > 2]\n",
        "peliculas = peliculasYSeries[peliculasYSeries['Title'].str.split(\":\").apply(len) < 3]"
      ]
    },
    {
      "cell_type": "markdown",
      "metadata": {
        "id": "zLff-5H3kT6u"
      },
      "source": [
        "# Ejercicios"
      ]
    },
    {
      "cell_type": "markdown",
      "metadata": {
        "id": "BV71NNGpkVkF"
      },
      "source": [
        "## A. Contabilizar el dispositivo con el que más títulos se reprodujeron."
      ]
    },
    {
      "cell_type": "markdown",
      "metadata": {
        "id": "B7Y5uSXDk6Oe"
      },
      "source": [
        "Nosotros contamos como titulo al titulo unico, es decir, si se ve una pelicula dos veces, esto cuenta como una vez"
      ]
    },
    {
      "cell_type": "code",
      "execution_count": 10,
      "metadata": {
        "id": "ddFfrJvDk4bm"
      },
      "outputs": [],
      "source": [
        "devices = {}\n",
        "# Iteramos por cada dispositivo del dataframe y si no esta lo agregamos con un valor\n",
        "for device in df['Device Type']:\n",
        "  if device not in devices:\n",
        "    # Sacamos la cuenta de valores de la serie Title donde el Device Type es igual al del device actual, lo convertimos a un diccionario y sacamos las keys (los nombres de los titulos)\n",
        "    # Al final devolvemos el largo para saber cuantos titulos se vieron en ese dispositivo\n",
        "    devices[device] = len(df[df['Device Type'] == device]['Title'].value_counts().to_list())\n",
        "\n",
        "# Utilizamos la funcion sorted para ordenar en base a los valores, accediendolos mediante devices.items() e indicando en el callback de key que los\n",
        "# ordene en base al valor. Ademas de decir que los ordene de mayor a menor. Esto devuelve una lista de tuplas\n",
        "devices = sorted(devices.items(), key=lambda item: item[1], reverse=True)"
      ]
    },
    {
      "cell_type": "code",
      "execution_count": 11,
      "metadata": {
        "colab": {
          "base_uri": "https://localhost:8080/"
        },
        "id": "dcuYXtPXDst8",
        "outputId": "8fc73ebc-86d6-4838-b242-c124aa412bf8"
      },
      "outputs": [
        {
          "output_type": "stream",
          "name": "stdout",
          "text": [
            "Dispositivo: Apple Apple TV 4 Apple TV\n",
            "Cantidad de titulos: 1920\n"
          ]
        }
      ],
      "source": [
        "# Mostrar en consola\n",
        "print(\"Dispositivo: \" + devices[0][0])\n",
        "print(\"Cantidad de titulos: \" + str(devices[0][1]))"
      ]
    },
    {
      "cell_type": "markdown",
      "metadata": {
        "id": "jYG_1rzjyS_W"
      },
      "source": [
        "El dispositivo en el que mas titulos se reprodujeron fue: Apple Apple TV 4 Apple TV, con 1920 titulos"
      ]
    },
    {
      "cell_type": "markdown",
      "metadata": {
        "id": "0GUfNu5zkYKo"
      },
      "source": [
        "## B. Encontrar la película con más ocurrencias y la película con mayor duración total.\n"
      ]
    },
    {
      "cell_type": "code",
      "execution_count": 12,
      "metadata": {
        "id": "2EAshpW1t0wK"
      },
      "outputs": [],
      "source": [
        "# peliculas['Title'].value_counts().to_dict() devuelve un diccionario con el titulo como key y la cantidad de ocurrencias como el valor\n",
        "titulosPeliculas1 = peliculas['Title'].value_counts().to_dict()\n",
        "titulosPeliculas2 = peliculas['Title'].value_counts().to_dict()"
      ]
    },
    {
      "cell_type": "code",
      "execution_count": 13,
      "metadata": {
        "colab": {
          "base_uri": "https://localhost:8080/"
        },
        "id": "kY-xrqvjyo64",
        "outputId": "de4c822f-72ee-49cb-eda3-2ebf72056369"
      },
      "outputs": [
        {
          "output_type": "stream",
          "name": "stdout",
          "text": [
            "Peliculas con mas ocurrencias: \n",
            "Titulo: Star Wars: El Imperio contraataca\n",
            "Cantidad de ocurrencias: 7\n",
            "\n",
            "Titulo: El código enigma\n",
            "Cantidad de ocurrencias: 7\n",
            "\n",
            "Titulo: ¿Qué pasó ayer?\n",
            "Cantidad de ocurrencias: 6\n",
            "\n"
          ]
        }
      ],
      "source": [
        "# La funcion sorted es igual que en el ejercicio A. Solo que convertimos a diccionario los primeros 3 items\n",
        "print(\"Peliculas con mas ocurrencias: \")\n",
        "for item in sorted(titulosPeliculas1.items(), key=lambda item: item[1], reverse=True)[:3]:\n",
        "  print(\"Titulo: \" + item[0])\n",
        "  print(\"Cantidad de ocurrencias: \" + str(item[1]))\n",
        "  print()"
      ]
    },
    {
      "cell_type": "code",
      "execution_count": 14,
      "metadata": {
        "colab": {
          "base_uri": "https://localhost:8080/"
        },
        "id": "s8V-1uBlt8yE",
        "outputId": "f393d324-3556-47bf-fabf-9c89852affbd"
      },
      "outputs": [
        {
          "output_type": "stream",
          "name": "stdout",
          "text": [
            "Peliculas con mayor duracion total (en segundos): \n",
            "Titulo: Star Wars: El Imperio contraataca\n",
            "Segundos: 29433\n",
            "\n",
            "Titulo: Iron Man: El Hombre de Hierro\n",
            "Segundos: 21718\n",
            "\n",
            "Titulo: Star Wars: Una nueva esperanza\n",
            "Segundos: 20394\n",
            "\n"
          ]
        }
      ],
      "source": [
        "# Por cada titulo unico sumamos la duracion de todas las ocurrencias\n",
        "for titulo in titulosPeliculas2.keys():\n",
        "  titulosPeliculas2[titulo] = sum(peliculas[peliculas['Title'] == titulo]['Duration'])\n",
        "\n",
        "# La funcion sorted es igual que la anterior\n",
        "print(\"Peliculas con mayor duracion total (en segundos): \")\n",
        "for item in sorted(titulosPeliculas2.items(), key=lambda item: item[1], reverse=True)[:3]:\n",
        "  print(\"Titulo: \" + item[0])\n",
        "  print(\"Segundos: \" + str(item[1]))\n",
        "  print()"
      ]
    },
    {
      "cell_type": "markdown",
      "metadata": {
        "id": "DubTY3FXpUh0"
      },
      "source": [
        "Las peliculas con mas ocurrencias son Star Wars: El Imperio contraataca y El codigo enigma con 7 reproducciones.\n",
        "\n",
        "La pelicula con mayor duracion total es Star Wars: El Imperio contraataca con 29433 segundos, es decir, 08:10:33"
      ]
    },
    {
      "cell_type": "markdown",
      "metadata": {
        "id": "t9gYS-RBkZLe"
      },
      "source": [
        "## C. Generar un TOP “N” de series vistas y graficar.\n",
        "## 1.   Por tiempo visto\n",
        "## 2.   Por ocurrencias"
      ]
    },
    {
      "cell_type": "code",
      "execution_count": 15,
      "metadata": {
        "id": "WFRxnFRrsUZZ"
      },
      "outputs": [],
      "source": [
        "# series['Title'].value_counts().to_dict() devuelve un diccionario con el titulo como key y la cantidad de ocurrencias como el valor\n",
        "titulosSeries1 = series['Title'].apply(lambda x: x.split(\":\")[0]).value_counts().to_dict()\n",
        "titulosSeries2 = series['Title'].apply(lambda x: x.split(\":\")[0]).value_counts().to_dict()"
      ]
    },
    {
      "cell_type": "markdown",
      "metadata": {
        "id": "LCDUroIHvET0"
      },
      "source": [
        "Cuando cambies el numero de top correr el bloque que esta abajo"
      ]
    },
    {
      "cell_type": "code",
      "execution_count": 16,
      "metadata": {
        "id": "t2JiIOkrsBJ5"
      },
      "outputs": [],
      "source": [
        "# Poner numero de top\n",
        "top = 5"
      ]
    },
    {
      "cell_type": "markdown",
      "metadata": {
        "id": "ExxLAncvqiFM"
      },
      "source": [
        "### Por tiempo visto"
      ]
    },
    {
      "cell_type": "code",
      "execution_count": 17,
      "metadata": {
        "id": "sm00kZ8CpE6L",
        "colab": {
          "base_uri": "https://localhost:8080/"
        },
        "outputId": "fa702346-6f2d-49c0-ee26-5a01b6f558a5"
      },
      "outputs": [
        {
          "output_type": "stream",
          "name": "stderr",
          "text": [
            "/usr/local/lib/python3.7/dist-packages/ipykernel_launcher.py:3: UserWarning: This pattern has match groups. To actually get the groups, use str.extract.\n",
            "  This is separate from the ipykernel package so we can avoid doing imports until\n"
          ]
        }
      ],
      "source": [
        "# Por cada titulo unico sumamos la duracion de todas las ocurrencias\n",
        "for titulo in titulosSeries2.keys():\n",
        "  titulosSeries2[titulo] = sum(series[series['Title'].str.contains(titulo)]['Duration'])\n",
        "\n",
        "# La funcion sorted es igual que en el ejercicio A. Solo que convertimos a diccionario los primeros items en base al numero de top\n",
        "datos1 = dict(sorted(titulosSeries2.items(), key=lambda item: item[1], reverse=True)[:top])"
      ]
    },
    {
      "cell_type": "markdown",
      "metadata": {
        "id": "RL_23w9mvMy4"
      },
      "source": [
        "Correr el bloque anterior una vez antes que este"
      ]
    },
    {
      "cell_type": "code",
      "execution_count": 18,
      "metadata": {
        "colab": {
          "base_uri": "https://localhost:8080/",
          "height": 0
        },
        "id": "eM5PIDrzugto",
        "outputId": "15577333-765d-400f-cf15-d218b17e2222"
      },
      "outputs": [
        {
          "output_type": "display_data",
          "data": {
            "text/plain": [
              "<Figure size 1080x360 with 1 Axes>"
            ],
            "image/png": "[encoded data removed]"
          },
          "metadata": {
            "needs_background": "light"
          }
        }
      ],
      "source": [
        "plt.figure(figsize=(15, 5))\n",
        "plt.bar(datos1.keys(), datos1.values())\n",
        "plt.xlabel(\"Titulos\", fontsize=15)\n",
        "plt.ylabel(\"Segundos\", fontsize=15)\n",
        "plt.show()"
      ]
    },
    {
      "cell_type": "markdown",
      "metadata": {
        "id": "tfBdsQuQqpKy"
      },
      "source": [
        "### Por ocurrencias"
      ]
    },
    {
      "cell_type": "code",
      "execution_count": 19,
      "metadata": {
        "id": "g6QBQeWPr_KR"
      },
      "outputs": [],
      "source": [
        "# La funcion sorted es igual que la anterior\n",
        "datos2 = dict(sorted(titulosSeries1.items(), key=lambda item: item[1], reverse=True)[:top])"
      ]
    },
    {
      "cell_type": "markdown",
      "metadata": {
        "id": "VoDZw8zHvRrn"
      },
      "source": [
        "Correr el bloque anterior una vez antes que este"
      ]
    },
    {
      "cell_type": "code",
      "execution_count": 20,
      "metadata": {
        "colab": {
          "base_uri": "https://localhost:8080/",
          "height": 0
        },
        "id": "fvPRmr79xiX-",
        "outputId": "867d8b83-061b-41ab-eb01-0b6877bf3c22"
      },
      "outputs": [
        {
          "output_type": "display_data",
          "data": {
            "text/plain": [
              "<Figure size 1080x360 with 1 Axes>"
            ],
            "image/png": "[encoded data removed]"
          },
          "metadata": {
            "needs_background": "light"
          }
        }
      ],
      "source": [
        "plt.figure(figsize=(15, 5))\n",
        "plt.bar(datos2.keys(), datos2.values())\n",
        "plt.xlabel(\"Titulos\", fontsize=15)\n",
        "plt.ylabel(\"Segundos\", fontsize=15)\n",
        "plt.show()"
      ]
    },
    {
      "cell_type": "markdown",
      "metadata": {
        "id": "T8RrNbs3kZ7-"
      },
      "source": [
        "## D. Visualizar una semana de reproducciones genérica, en función a las reproducciones por día y por horario de todos los años.\n"
      ]
    },
    {
      "cell_type": "code",
      "execution_count": 21,
      "metadata": {
        "id": "0RQTKbpMqLdk"
      },
      "outputs": [],
      "source": [
        "# Creacion de una lista (7 elementos de largo) de listas (24 elementos de largo)\n",
        "titulosPorDia = [[y for y in range(24)] for x in range(7)]\n",
        "# Iteramos por cada dia y hora, dia es de 0 a 6 (Lunes a Sabado)\n",
        "for dia in range(0,7):\n",
        "  for hora in range(0,24):\n",
        "    # Esto devuelve la cantidad de titulos que se vieron en el dia y hora indicado\n",
        "    titulosPorDia[dia][hora] = sum(peliculasYSeries[(peliculasYSeries['Start Time'].dt.dayofweek == dia) & (peliculasYSeries['Start Time'].dt.hour == hora)]['Title'].value_counts().to_list())"
      ]
    },
    {
      "cell_type": "code",
      "execution_count": 22,
      "metadata": {
        "colab": {
          "base_uri": "https://localhost:8080/",
          "height": 0
        },
        "id": "9G-IwfQ_8JdV",
        "outputId": "773bb770-2b20-4844-93df-d5a9dbb335f2"
      },
      "outputs": [
        {
          "output_type": "execute_result",
          "data": {
            "text/plain": [
              "Text(159.0, 0.5, 'Dias')"
            ]
          },
          "metadata": {},
          "execution_count": 22
        },
        {
          "output_type": "display_data",
          "data": {
            "text/plain": [
              "<Figure size 1440x504 with 2 Axes>"
            ],
            "image/png": "[encoded data removed]"
          },
          "metadata": {
            "needs_background": "light"
          }
        }
      ],
      "source": [
        "plt.figure(figsize=(20,7))\n",
        "sns.heatmap(titulosPorDia, annot=True, fmt=\"d\", square=True, yticklabels=[\"Lunes\", \"Martes\", \"Miércoles\", \"Jueves\", \"Viernes\", \"Sábado\", \"Domingo\"], cmap=sns.color_palette(\"dark:#39d353\", as_cmap=True))\n",
        "plt.xlabel(\"Horas\", fontsize=15)\n",
        "plt.ylabel(\"Dias\", fontsize=15)"
      ]
    },
    {
      "cell_type": "markdown",
      "metadata": {
        "id": "VVr06Sdgkaf-"
      },
      "source": [
        "## E. Contabilizar la cantidad de títulos vistos por año, graficar su variación a través de los años.\n"
      ]
    },
    {
      "cell_type": "code",
      "execution_count": 23,
      "metadata": {
        "id": "V5O2U1SnxWxm"
      },
      "outputs": [],
      "source": [
        "# De todos los tiempos de inicio accedemos el año\n",
        "# Hacemos un value_counts (devuelve una serie con un valor y su cantidad de ocurrencias) y lo convertimos a un diccionario\n",
        "años = dict(peliculasYSeries['Start Time'].dt.year.value_counts())\n",
        "\n",
        "# Ordenamos los items del diccionario años en base a la key, es decir el año, y despues los convertimos a un diccionario\n",
        "años = dict(sorted(años.items()))"
      ]
    },
    {
      "cell_type": "code",
      "execution_count": 24,
      "metadata": {
        "colab": {
          "base_uri": "https://localhost:8080/",
          "height": 0
        },
        "id": "L85jj_7W0lN0",
        "outputId": "aa11ae22-356f-4c58-dc71-c0205894060e"
      },
      "outputs": [
        {
          "output_type": "display_data",
          "data": {
            "text/plain": [
              "<Figure size 432x288 with 1 Axes>"
            ],
            "image/png": "[encoded data removed]"
          },
          "metadata": {
            "needs_background": "light"
          }
        }
      ],
      "source": [
        "plt.bar(años.keys(), años.values())\n",
        "plt.xlabel(\"Años\", fontsize=15)\n",
        "plt.ylabel(\"Cantidad de titulos vistos\", fontsize=15)\n",
        "plt.show()"
      ]
    },
    {
      "cell_type": "markdown",
      "metadata": {
        "id": "iqaNoEd4kdBG"
      },
      "source": [
        "## F. Total de días de todos los títulos reproducidos.\n"
      ]
    },
    {
      "cell_type": "code",
      "execution_count": 25,
      "metadata": {
        "id": "4eMJNSgjyCDl"
      },
      "outputs": [],
      "source": [
        "# peliculasYSeries['Title'].value_counts().to_dict() devuelve un diccionario con las keys como el titulo y la cantidad de ocurrencias como el valor\n",
        "titulosGenerales = peliculasYSeries['Title'].value_counts().to_dict()\n",
        "\n",
        "segundosTotales = 0\n",
        "\n",
        "# Por cada titulo unico sumamos la duracion de todas las ocurrencias a segundosTotales\n",
        "for titulo in titulosGenerales.keys():\n",
        "  segundosTotales += sum(peliculasYSeries[peliculasYSeries['Title'] == titulo]['Duration'])\n",
        "\n",
        "# convertimos los segundos totales a dias, horas, minutos y segundos\n",
        "# 86400 = 3600 * 24\n",
        "dias = segundosTotales/86400\n",
        "horas = (dias - int(dias)) * 24\n",
        "minutos = (horas - int(horas)) * 60\n",
        "segundos = (minutos - int(minutos)) * 60"
      ]
    },
    {
      "cell_type": "code",
      "execution_count": 26,
      "metadata": {
        "colab": {
          "base_uri": "https://localhost:8080/"
        },
        "id": "LkySRHCO1fT8",
        "outputId": "f86f0d4f-1fea-4b10-8979-c80490e9a8f8"
      },
      "outputs": [
        {
          "output_type": "stream",
          "name": "stdout",
          "text": [
            "Tiempo total (en dd:hh:mm:ss): 99:18:11:41\n"
          ]
        }
      ],
      "source": [
        "# Mostramos el tiempo total en el formato dd:hh:mm:ss\n",
        "print(\"Tiempo total (en dd:hh:mm:ss): \" + str(int(dias)) + \":\" + str(int(horas)) + \":\" + str(int(minutos)) + \":\" + str(int(segundos)))"
      ]
    },
    {
      "cell_type": "markdown",
      "source": [
        "# Bonus"
      ],
      "metadata": {
        "id": "WPIgTbZGLopm"
      }
    },
    {
      "cell_type": "markdown",
      "source": [
        "## 1. Identificar cuál fue la película de Star Wars más veces vista por duración."
      ],
      "metadata": {
        "id": "e_ZPYXhvLsY3"
      }
    },
    {
      "cell_type": "code",
      "source": [
        "# Devuelve un diccionario con los titulos como keys y la cantidad de ocurrencias como valor, donde el titulo contiene \"Star Wars\"\n",
        "peliculasStarWars = peliculas[peliculas['Title'].str.contains(\"Star Wars\")]['Title'].value_counts().to_dict()\n",
        "# Actualizacion del valor del diccionario a la suma total de la duracion de todas las veces que se vio\n",
        "for key in peliculasStarWars:\n",
        "  peliculasStarWars[key] = sum(peliculas[peliculas['Title'] == key]['Duration'])"
      ],
      "metadata": {
        "id": "n01xS5hHb2x7"
      },
      "execution_count": 44,
      "outputs": []
    },
    {
      "cell_type": "code",
      "source": [
        "# La funcion sorted es igual a la del ejercicio A\n",
        "sorted(peliculasStarWars.items(), key=lambda item: item[1], reverse=True)"
      ],
      "metadata": {
        "colab": {
          "base_uri": "https://localhost:8080/"
        },
        "id": "B9P3vkmy-70f",
        "outputId": "f424f706-5163-42aa-b9fa-6a4cd24583eb"
      },
      "execution_count": 45,
      "outputs": [
        {
          "output_type": "execute_result",
          "data": {
            "text/plain": [
              "[('Star Wars: El Imperio contraataca', 29433),\n",
              " ('Star Wars: Una nueva esperanza', 20394),\n",
              " ('Star Wars: El regreso del Jedi', 9007),\n",
              " ('Star Wars: La venganza de los Sith', 8040),\n",
              " ('Star Wars: La amenaza fantasma', 7926),\n",
              " ('Star Wars: El despertar de la fuerza', 7142),\n",
              " ('Star Wars: El ataque de los clones', 6398),\n",
              " ('Empire of Dreams: The Story of the Star Wars Trilogy', 28)]"
            ]
          },
          "metadata": {},
          "execution_count": 45
        }
      ]
    },
    {
      "cell_type": "markdown",
      "source": [
        "La pelicula que mas veces se vio es \"Star Wars: El Imperio contraataca\" con 08:10:33 (29433 segundos)"
      ],
      "metadata": {
        "id": "sHtPTa8d_JW_"
      }
    },
    {
      "cell_type": "markdown",
      "source": [
        "## 2. Utilizando la API de IMDb (u otra):\n",
        "\n",
        "* ## Mostrar el póster de las películas más vistas, y de las series.\n",
        "\n",
        "* ## Encontrar el género de series y el de películas más ocurrente."
      ],
      "metadata": {
        "id": "K8SA9Q20LyS6"
      }
    },
    {
      "cell_type": "code",
      "source": [],
      "metadata": {
        "id": "3MgUtWLrb3Um"
      },
      "execution_count": null,
      "outputs": []
    },
    {
      "cell_type": "markdown",
      "source": [
        "## 3. Encontrar la serie que más rápido se terminó de ver."
      ],
      "metadata": {
        "id": "XkxZrzipbkja"
      }
    },
    {
      "cell_type": "code",
      "source": [],
      "metadata": {
        "id": "9OVcaF73b4HV"
      },
      "execution_count": null,
      "outputs": []
    }
  ],
  "metadata": {
    "colab": {
      "collapsed_sections": [],
      "provenance": [],
      "include_colab_link": true
    },
    "kernelspec": {
      "display_name": "Python 3",
      "name": "python3"
    },
    "language_info": {
      "name": "python"
    }
  },
  "nbformat": 4,
  "nbformat_minor": 0
}